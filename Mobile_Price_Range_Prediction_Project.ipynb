{
  "nbformat": 4,
  "nbformat_minor": 0,
  "metadata": {
    "colab": {
      "private_outputs": true,
      "provenance": [],
      "collapsed_sections": [
        "vncDsAP0Gaoa",
        "FJNUwmbgGyua",
        "w6K7xa23Elo4",
        "yQaldy8SH6Dl",
        "mDgbUHAGgjLW",
        "O_i_v8NEhb9l",
        "HhfV-JJviCcP",
        "Y3lxredqlCYt",
        "3RnN4peoiCZX",
        "x71ZqKXriCWQ",
        "7hBIi_osiCS2",
        "JlHwYmJAmNHm",
        "35m5QtbWiB9F",
        "PoPl-ycgm1ru",
        "H0kj-8xxnORC",
        "nA9Y7ga8ng1Z",
        "PBTbrJXOngz2",
        "u3PMJOP6ngxN",
        "dauF4eBmngu3",
        "bKJF3rekwFvQ",
        "MSa1f5Uengrz",
        "GF8Ens_Soomf",
        "0wOQAZs5pc--",
        "K5QZ13OEpz2H",
        "lQ7QKXXCp7Bj",
        "448CDAPjqfQr",
        "KSlN3yHqYklG",
        "t6dVpIINYklI",
        "ijmpgYnKYklI",
        "-JiQyfWJYklI",
        "EM7whBJCYoAo",
        "fge-S5ZAYoAp",
        "85gYPyotYoAp",
        "RoGjAbkUYoAp",
        "4Of9eVA-YrdM",
        "iky9q4vBYrdO",
        "F6T5p64dYrdO",
        "y-Ehk30pYrdP",
        "bamQiAODYuh1",
        "QHF8YVU7Yuh3",
        "GwzvFGzlYuh3",
        "qYpmQ266Yuh3",
        "OH-pJp9IphqM",
        "bbFf2-_FphqN",
        "_ouA3fa0phqN",
        "Seke61FWphqN",
        "PIIx-8_IphqN",
        "t27r6nlMphqO",
        "r2jJGEOYphqO",
        "b0JNsNcRphqO",
        "BZR9WyysphqO",
        "jj7wYXLtphqO",
        "eZrbJ2SmphqO",
        "rFu4xreNphqO",
        "YJ55k-q6phqO",
        "gCFgpxoyphqP",
        "OVtJsKN_phqQ",
        "lssrdh5qphqQ",
        "U2RJ9gkRphqQ",
        "1M8mcRywphqQ",
        "tgIPom80phqQ",
        "JMzcOPDDphqR",
        "x-EpHcCOp1ci",
        "X_VqEhTip1ck",
        "8zGJKyg5p1ck",
        "PVzmfK_Ep1ck",
        "n3dbpmDWp1ck",
        "ylSl6qgtp1ck",
        "ZWILFDl5p1ck",
        "M7G43BXep1ck",
        "Ag9LCva-p1cl",
        "E6MkPsBcp1cl",
        "2cELzS2fp1cl",
        "3MPXvC8up1cl",
        "NC_X3p0fY2L0",
        "UV0SzAkaZNRQ",
        "YPEH6qLeZNRQ",
        "q29F0dvdveiT",
        "EXh0U9oCveiU",
        "22aHeOlLveiV",
        "g-ATYxFrGrvw",
        "Yfr_Vlr8HBkt",
        "8yEUt7NnHlrM",
        "tEA2Xm5dHt1r",
        "I79__PHVH19G",
        "Ou-I18pAyIpj",
        "fF3858GYyt-u",
        "4_0_7-oCpUZd",
        "hwyV_J3ipUZe",
        "3yB-zSqbpUZe",
        "dEUvejAfpUZe",
        "Fd15vwWVpUZf",
        "bn_IUdTipZyH",
        "49K5P_iCpZyH",
        "Nff-vKELpZyI",
        "kLW572S8pZyI",
        "dWbDXHzopZyI",
        "yLjJCtPM0KBk",
        "xiyOF9F70UgQ",
        "7wuGOrhz0itI",
        "id1riN9m0vUs",
        "578E2V7j08f6",
        "89xtkJwZ18nB",
        "67NQN5KX2AMe",
        "Iwf50b-R2tYG",
        "GMQiZwjn3iu7",
        "WVIkgGqN3qsr",
        "XkPnILGE3zoT",
        "Hlsf0x5436Go",
        "mT9DMSJo4nBL",
        "c49ITxTc407N",
        "OeJFEK0N496M",
        "9ExmJH0g5HBk",
        "cJNqERVU536h",
        "k5UmGsbsOxih",
        "T0VqWOYE6DLQ",
        "qBMux9mC6MCf",
        "-oLEiFgy-5Pf",
        "C74aWNz2AliB",
        "2DejudWSA-a0",
        "pEMng2IbBLp7",
        "rAdphbQ9Bhjc",
        "TNVZ9zx19K6k",
        "nqoHp30x9hH9",
        "rMDnDkt2B6du",
        "yiiVWRdJDDil",
        "1UUpS68QDMuG",
        "kexQrXU-DjzY",
        "T5CmagL3EC8N",
        "BhH2vgX9EjGr",
        "qjKvONjwE8ra",
        "P1XJ9OREExlT",
        "VFOzZv6IFROw",
        "TIqpNgepFxVj",
        "VfCC591jGiD4",
        "OB4l2ZhMeS1U",
        "ArJBuiUVfxKd",
        "4qY1EAkEfxKe",
        "PiV4Ypx8fxKe",
        "TfvqoZmBfxKf",
        "dJ2tPlVmpsJ0",
        "JWYfwnehpsJ1",
        "-jK_YjpMpsJ2",
        "HAih1iBOpsJ2",
        "zVGeBEFhpsJ2",
        "bmKjuQ-FpsJ3",
        "Fze-IPXLpx6K",
        "7AN1z2sKpx6M",
        "9PIHJqyupx6M",
        "_-qAgymDpx6N",
        "Z-hykwinpx6N",
        "h_CCil-SKHpo",
        "cBFFvTBNJzUa",
        "HvGl1hHyA_VK",
        "EyNgTHvd2WFk",
        "KH5McJBi2d8v",
        "iW_Lq9qf2h6X",
        "-Kee-DAl2viO",
        "gCX9965dhzqZ",
        "gIfDvo9L0UH2"
      ],
      "include_colab_link": true
    },
    "kernelspec": {
      "name": "python3",
      "display_name": "Python 3"
    },
    "language_info": {
      "name": "python"
    }
  },
  "cells": [
    {
      "cell_type": "markdown",
      "metadata": {
        "id": "view-in-github",
        "colab_type": "text"
      },
      "source": [
        "<a href=\"https://colab.research.google.com/github/Swastik02aug/Mobile-price-range-prediction/blob/main/Mobile_Price_Range_Prediction_Project.ipynb\" target=\"_parent\"><img src=\"https://colab.research.google.com/assets/colab-badge.svg\" alt=\"Open In Colab\"/></a>"
      ]
    },
    {
      "cell_type": "markdown",
      "source": [
        "# **Project Name**    - Mobile Price Range Pridiction\n",
        "\n"
      ],
      "metadata": {
        "id": "vncDsAP0Gaoa"
      }
    },
    {
      "cell_type": "markdown",
      "source": [
        "##### **Project Type**    - Classification\n",
        "##### **Contribution**    - Individual\n",
        "##### **Name -**          -Swastik Chaurasia\n"
      ],
      "metadata": {
        "id": "beRrZCGUAJYm"
      }
    },
    {
      "cell_type": "markdown",
      "source": [
        "# **Project Summary -**"
      ],
      "metadata": {
        "id": "FJNUwmbgGyua"
      }
    },
    {
      "cell_type": "markdown",
      "source": [
        "Mobile phones come in all sorts of prices, features, specifications and all. Price estimation and prediction is an important part of consumer strategy. Deciding on the correct price of a product is very important for the market success of a product. A new product that has to be launched, must have the correct price so that consumers find it appropriate to buy the product.we looked at classification. Classifiers represent the intersection of advanced machine theory and practical application. These algorithms are more than just a sorting mechanism for organising unlabeled data instances into distinct groupings. Classifiers include a unique set of dynamic rules that include an interpretation mechanism for dealing with ambiguous or unknown values, all of which are suited to the kind of inputs being analysed. Most classifiers also utilise probability estimates, which enable end-users to adjust data categorization using utility functions.And these classifiers methods helps us to predict the price range for mobile."
      ],
      "metadata": {
        "id": "F6v_1wHtG2nS"
      }
    },
    {
      "cell_type": "markdown",
      "source": [
        "# **GitHub Link -**"
      ],
      "metadata": {
        "id": "w6K7xa23Elo4"
      }
    },
    {
      "cell_type": "markdown",
      "source": [
        "Provide your GitHub Link here."
      ],
      "metadata": {
        "id": "h1o69JH3Eqqn"
      }
    },
    {
      "cell_type": "markdown",
      "source": [
        "# **Problem Statement**\n"
      ],
      "metadata": {
        "id": "yQaldy8SH6Dl"
      }
    },
    {
      "cell_type": "markdown",
      "source": [
        "**In the competitive mobile phone market companies want to understand sales data of mobile phones and factors which drive the prices .The objective is to find out some relation between features of a mobile phone (eg:-RAM,INTERNAL MEMORY ,etc) and its selling price .In this problem ,we do not have to predict the actual price but a price range indicating how  high  the price is.**\n",
        "\n",
        "\n",
        "Data Description -\n",
        "\n",
        "Battery_power - Total energy a battery can store in one time measured in mAh\n",
        "\n",
        "Blue - Has bluetooth or not\n",
        "\n",
        "Clock_speed - speed at which microprocessor executes instructions\n",
        "\n",
        "Dual_sim - Has dual sim support or not\n",
        "\n",
        "Fc - Front Camera mega pixels\n",
        "\n",
        "Four_g - Has 4G or not\n",
        "\n",
        "Int_memory - Internal Memory in Gigabytes\n",
        "\n",
        "M_dep - Mobile Depth in cm\n",
        "\n",
        "Mobile_wt - Weight of mobile phone\n",
        "\n",
        "N_cores - Number of cores of processor\n",
        "\n",
        "Pc - Primary Camera mega pixels\n",
        "\n",
        "Px_height - Pixel Resolution Height\n",
        "\n",
        "Px_width - Pixel Resolution Width\n",
        "\n",
        "Ram - Random Access Memory in Mega\n",
        "\n",
        "Touch_screen - Has touch screen or not\n",
        "\n",
        "Wifi - Has wifi or not\n",
        "\n",
        "Sc_h - Screen Height of mobile in cm\n",
        "\n",
        "Sc_w - Screen Width of mobile in cm\n",
        "\n",
        "Talk_time - longest time that a single battery charge will last when you are"
      ],
      "metadata": {
        "id": "DpeJGUA3kjGy"
      }
    },
    {
      "cell_type": "markdown",
      "source": [
        "# **General Guidelines** : -  "
      ],
      "metadata": {
        "id": "mDgbUHAGgjLW"
      }
    },
    {
      "cell_type": "markdown",
      "source": [
        "1.   Well-structured, formatted, and commented code is required. \n",
        "2.   Exception Handling, Production Grade Code & Deployment Ready Code will be a plus. Those students will be awarded some additional credits. \n",
        "     \n",
        "     The additional credits will have advantages over other students during Star Student selection.\n",
        "       \n",
        "             [ Note: - Deployment Ready Code is defined as, the whole .ipynb notebook should be executable in one go\n",
        "                       without a single error logged. ]\n",
        "\n",
        "3.   Each and every logic should have proper comments.\n",
        "4. You may add as many number of charts you want. Make Sure for each and every chart the following format should be answered.\n",
        "        \n",
        "\n",
        "```\n",
        "# Chart visualization code\n",
        "```\n",
        "            \n",
        "\n",
        "*   Why did you pick the specific chart?\n",
        "*   What is/are the insight(s) found from the chart?\n",
        "* Will the gained insights help creating a positive business impact? \n",
        "Are there any insights that lead to negative growth? Justify with specific reason.\n",
        "\n",
        "5. You have to create at least 15 logical & meaningful charts having important insights.\n",
        "\n",
        "\n",
        "[ Hints : - Do the Vizualization in  a structured way while following \"UBM\" Rule. \n",
        "\n",
        "U - Univariate Analysis,\n",
        "\n",
        "B - Bivariate Analysis (Numerical - Categorical, Numerical - Numerical, Categorical - Categorical)\n",
        "\n",
        "M - Multivariate Analysis\n",
        " ]\n",
        "\n",
        "\n",
        "\n",
        "\n",
        "\n",
        "6. You may add more ml algorithms for model creation. Make sure for each and every algorithm, the following format should be answered.\n",
        "\n",
        "\n",
        "*   Explain the ML Model used and it's performance using Evaluation metric Score Chart.\n",
        "\n",
        "\n",
        "*   Cross- Validation & Hyperparameter Tuning\n",
        "\n",
        "*   Have you seen any improvement? Note down the improvement with updates Evaluation metric Score Chart.\n",
        "\n",
        "*   Explain each evaluation metric's indication towards business and the business impact pf the ML model used.\n",
        "\n",
        "\n",
        "\n",
        "\n",
        "\n",
        "\n",
        "\n",
        "\n",
        "\n",
        "\n",
        "\n",
        "\n",
        "\n",
        "\n",
        "\n",
        "\n",
        "\n",
        "\n"
      ],
      "metadata": {
        "id": "ZrxVaUj-hHfC"
      }
    },
    {
      "cell_type": "markdown",
      "source": [
        "# ***Let's Begin !***"
      ],
      "metadata": {
        "id": "O_i_v8NEhb9l"
      }
    },
    {
      "cell_type": "markdown",
      "source": [
        "## ***1. Know Your Data***"
      ],
      "metadata": {
        "id": "HhfV-JJviCcP"
      }
    },
    {
      "cell_type": "markdown",
      "source": [
        "### Import Libraries"
      ],
      "metadata": {
        "id": "Y3lxredqlCYt"
      }
    },
    {
      "cell_type": "code",
      "source": [
        "# Import Libraries\n",
        "import numpy as np                                          #importing for Numerical computations\n",
        "import pandas as pd                                         #importing Data manipulations\n",
        "import matplotlib.pyplot as plt                             #importing for visualize with plots\n",
        "import seaborn as sns\n",
        "from sklearn.ensemble import RandomForestClassifier         #importing random forest classifier\n",
        "from sklearn.neighbors import KNeighborsClassifier          #Import KNeighbors Classifier\n",
        "from sklearn.tree import DecisionTreeClassifier             #importing decision tree classifier\n",
        "from sklearn.pipeline import make_pipeline                  #importing make_pipeline for constructing pipelines\n",
        "from sklearn.preprocessing import StandardScaler            #importing  for Scaling data\n",
        "from sklearn.ensemble import StackingClassifier             #importing Stacking Classifier\n",
        "from sklearn.impute import SimpleImputer                    #importing for treating  missing values\n",
        "from sklearn.model_selection import cross_val_score         #importing  for cross validation\n",
        "from sklearn.model_selection import RepeatedStratifiedKFold\n",
        "from sklearn.model_selection import GridSearchCV            #importing to find the best values for hyperparameters of a model\n",
        "from sklearn.model_selection import train_test_split        # split train and test data\n",
        "\n",
        "import warnings\n",
        "warnings.filterwarnings(\"ignore\")                           #importing disable some warnings"
      ],
      "metadata": {
        "id": "M8Vqi-pPk-HR"
      },
      "execution_count": null,
      "outputs": []
    },
    {
      "cell_type": "markdown",
      "source": [
        "### Dataset Loading"
      ],
      "metadata": {
        "id": "3RnN4peoiCZX"
      }
    },
    {
      "cell_type": "code",
      "source": [
        "#mounting drive\n",
        "from google.colab import drive\n",
        "drive.mount('/content/drive')"
      ],
      "metadata": {
        "id": "gfbCKKb4mPke"
      },
      "execution_count": null,
      "outputs": []
    },
    {
      "cell_type": "code",
      "source": [
        "# loading csv file\n",
        "df=pd.read_csv('/content/drive/MyDrive/classification ml project/data_mobile_price_range.csv')"
      ],
      "metadata": {
        "id": "QQa-eTVLmmBP"
      },
      "execution_count": null,
      "outputs": []
    },
    {
      "cell_type": "markdown",
      "source": [
        "### Dataset First View"
      ],
      "metadata": {
        "id": "x71ZqKXriCWQ"
      }
    },
    {
      "cell_type": "code",
      "source": [
        "# Dataset First Look\n",
        "df.head()\n",
        "#Return the first 5 rows of the DataFrame"
      ],
      "metadata": {
        "id": "LWNFOSvLl09H"
      },
      "execution_count": null,
      "outputs": []
    },
    {
      "cell_type": "markdown",
      "source": [
        "### Dataset Rows & Columns count"
      ],
      "metadata": {
        "id": "7hBIi_osiCS2"
      }
    },
    {
      "cell_type": "code",
      "source": [
        "# Dataset Rows & Columns count\n",
        "df.shape\n",
        "#return the (number of rows,number of columns)"
      ],
      "metadata": {
        "id": "Kllu7SJgmLij"
      },
      "execution_count": null,
      "outputs": []
    },
    {
      "cell_type": "markdown",
      "source": [
        "There are 2000 rows and 21 columns in the given data sets."
      ],
      "metadata": {
        "id": "OjESotpb2meL"
      }
    },
    {
      "cell_type": "markdown",
      "source": [
        "### Dataset Information"
      ],
      "metadata": {
        "id": "JlHwYmJAmNHm"
      }
    },
    {
      "cell_type": "code",
      "source": [
        "# Dataset Info\n",
        "df.info()\n",
        "#it is used to provides details about each columns ."
      ],
      "metadata": {
        "id": "e9hRXRi6meOf"
      },
      "execution_count": null,
      "outputs": []
    },
    {
      "cell_type": "markdown",
      "source": [
        "From the above we find that there no null values present in the given data set and only two types of data are present i.e;integers and float."
      ],
      "metadata": {
        "id": "xLL6YhjBMPYp"
      }
    },
    {
      "cell_type": "markdown",
      "source": [
        "#### Duplicate Values"
      ],
      "metadata": {
        "id": "35m5QtbWiB9F"
      }
    },
    {
      "cell_type": "code",
      "source": [
        "# Dataset Duplicate Value \n",
        "df.duplicated()\n",
        "# it is uesd to return the boolean output such as True for duplicated values otherwise False\n"
      ],
      "metadata": {
        "id": "1sLdpKYkmox0"
      },
      "execution_count": null,
      "outputs": []
    },
    {
      "cell_type": "code",
      "source": [
        "# here we fining out the lenght of the duplicate values \n",
        "len(df[df.duplicated()])"
      ],
      "metadata": {
        "id": "CXmDEGVB8gtQ"
      },
      "execution_count": null,
      "outputs": []
    },
    {
      "cell_type": "markdown",
      "source": [
        "Hence there is no duplicate values present in the given data set."
      ],
      "metadata": {
        "id": "mCVNCDTq8vsf"
      }
    },
    {
      "cell_type": "markdown",
      "source": [
        "#### Missing Values/Null Values"
      ],
      "metadata": {
        "id": "PoPl-ycgm1ru"
      }
    },
    {
      "cell_type": "code",
      "source": [
        "# Missing Values/Null Values Count\n",
        "df.isnull().sum()\n",
        "#it is used to return the number of sum of all missing values in the columns of the given data set."
      ],
      "metadata": {
        "id": "GgHWkxvamxVg"
      },
      "execution_count": null,
      "outputs": []
    },
    {
      "cell_type": "markdown",
      "source": [
        "There is no null values  found in any columns of the given data sets.\n"
      ],
      "metadata": {
        "id": "DevT6UXb9r7H"
      }
    },
    {
      "cell_type": "markdown",
      "source": [
        "### What did you know about your dataset?"
      ],
      "metadata": {
        "id": "H0kj-8xxnORC"
      }
    },
    {
      "cell_type": "markdown",
      "source": [
        "From the given data set we find that there is no duplicated as well as no missing values present in the given data set .And there are only two types of data set are present i.e; integers and float.There are 2000 rows and 21 columns in the dataframe."
      ],
      "metadata": {
        "id": "gfoNAAC-nUe_"
      }
    },
    {
      "cell_type": "markdown",
      "source": [
        "## ***2. Understanding Your Variables***"
      ],
      "metadata": {
        "id": "nA9Y7ga8ng1Z"
      }
    },
    {
      "cell_type": "code",
      "source": [
        "# Dataset Columns\n",
        "c=list(df.columns)\n"
      ],
      "metadata": {
        "id": "j7xfkqrt5Ag5"
      },
      "execution_count": null,
      "outputs": []
    },
    {
      "cell_type": "code",
      "source": [
        "# Dataset Describe\n",
        "df.describe(include='all').T\n",
        "#.T is used to transepose the data frame\n",
        "# it is used to provides the no. of element present in every columns,mean,standard deviation,minimum,maximum  and etc "
      ],
      "metadata": {
        "id": "DnOaZdaE5Q5t"
      },
      "execution_count": null,
      "outputs": []
    },
    {
      "cell_type": "markdown",
      "source": [
        "From the above we find that minimum value of px_height and sc_w cannot be zero ,which can't be so we need to handle that ."
      ],
      "metadata": {
        "id": "cx6wEPYmJX3H"
      }
    },
    {
      "cell_type": "markdown",
      "source": [
        "### Check Unique Values for each variable."
      ],
      "metadata": {
        "id": "u3PMJOP6ngxN"
      }
    },
    {
      "cell_type": "code",
      "source": [
        "# Check Unique Values for each variable.\n",
        "df.nunique()\n",
        "# it is used to print the number of unique values in each columns of the data set."
      ],
      "metadata": {
        "id": "zms12Yq5n-jE"
      },
      "execution_count": null,
      "outputs": []
    },
    {
      "cell_type": "markdown",
      "source": [
        "## 3. ***Data Wrangling***"
      ],
      "metadata": {
        "id": "dauF4eBmngu3"
      }
    },
    {
      "cell_type": "markdown",
      "source": [
        "### Data Wrangling Code"
      ],
      "metadata": {
        "id": "bKJF3rekwFvQ"
      }
    },
    {
      "cell_type": "code",
      "source": [
        "df.head()"
      ],
      "metadata": {
        "id": "12wLAH6t8TJz"
      },
      "execution_count": null,
      "outputs": []
    },
    {
      "cell_type": "code",
      "source": [
        "binary_features = ['blue', 'four_g', 'three_g','dual_sim','touch_screen','wifi']\n",
        "normal_feature=['battery_power','clock_speed','fc','int_memory','m_dep','mobile_wt','n_cores','px_height','px_width','ram','talk_time','price_range' ]  "
      ],
      "metadata": {
        "id": "9Q1EmhcIvxaT"
      },
      "execution_count": null,
      "outputs": []
    },
    {
      "cell_type": "markdown",
      "source": [
        "### What all manipulations have you done and insights you found?"
      ],
      "metadata": {
        "id": "MSa1f5Uengrz"
      }
    },
    {
      "cell_type": "markdown",
      "source": [
        "Here we differenciating the boolean data and normal data ,it will help out to analysis the data more accurately."
      ],
      "metadata": {
        "id": "LbyXE7I1olp8"
      }
    },
    {
      "cell_type": "markdown",
      "source": [
        "## ***4. Data Vizualization, Storytelling & Experimenting with charts : Understand the relationships between variables***"
      ],
      "metadata": {
        "id": "GF8Ens_Soomf"
      }
    },
    {
      "cell_type": "markdown",
      "source": [
        "#### Chart - 1"
      ],
      "metadata": {
        "id": "0wOQAZs5pc--"
      }
    },
    {
      "cell_type": "code",
      "source": [
        "#classes\n",
        "sns.set()\n",
        "price_plot=df['price_range'].value_counts().plot(kind='bar')\n",
        "plt.xlabel('price_range')\n",
        "plt.ylabel('Count')\n",
        "plt.show()"
      ],
      "metadata": {
        "id": "mLcxqG2-85Sp"
      },
      "execution_count": null,
      "outputs": []
    },
    {
      "cell_type": "markdown",
      "source": [
        "So, there are mobile phones in 4 price ranges. The number of elements is almost similar."
      ],
      "metadata": {
        "id": "Dv0-lmyp9D4E"
      }
    },
    {
      "cell_type": "code",
      "source": [
        "c=df[normal_feature]"
      ],
      "metadata": {
        "id": "yY6696ABwb8l"
      },
      "execution_count": null,
      "outputs": []
    },
    {
      "cell_type": "markdown",
      "source": [
        "##### 1. Why did you pick the specific chart?"
      ],
      "metadata": {
        "id": "K5QZ13OEpz2H"
      }
    },
    {
      "cell_type": "markdown",
      "source": [
        "distplot() function is used to plot the distplot. The distplot represents the univariate distribution of data i.e. data distribution of a variable against the density distribution. The seaborn. distplot() function accepts the data variable as an argument and returns the plot with the density distribution."
      ],
      "metadata": {
        "id": "XESiWehPqBRc"
      }
    },
    {
      "cell_type": "markdown",
      "source": [
        "##### 2. What is/are the insight(s) found from the chart?"
      ],
      "metadata": {
        "id": "lQ7QKXXCp7Bj"
      }
    },
    {
      "cell_type": "markdown",
      "source": [
        "from the given data we find that data distibution is not normal ."
      ],
      "metadata": {
        "id": "C_j1G7yiqdRP"
      }
    },
    {
      "cell_type": "markdown",
      "source": [
        "##### 3. Will the gained insights help creating a positive business impact? \n",
        "Are there any insights that lead to negative growth? Justify with specific reason."
      ],
      "metadata": {
        "id": "448CDAPjqfQr"
      }
    },
    {
      "cell_type": "markdown",
      "source": [
        "To make it normal distribution we aplly log transformation"
      ],
      "metadata": {
        "id": "3cspy4FjqxJW"
      }
    },
    {
      "cell_type": "markdown",
      "source": [
        "#### Chart - 2"
      ],
      "metadata": {
        "id": "KSlN3yHqYklG"
      }
    },
    {
      "cell_type": "code",
      "source": [
        "#Let us analyse some data features and see their distribution.\n",
        "c=df[normal_feature]\n",
        "for a in c:\n",
        "  sns.set(rc={'figure.figsize':(5,5)})\n",
        "  ax=sns.displot(data=df[a])\n",
        "  plt.show()"
      ],
      "metadata": {
        "id": "RYQdR8Ib-fHw"
      },
      "execution_count": null,
      "outputs": []
    },
    {
      "cell_type": "markdown",
      "source": [
        "##### 1. Why did you pick the specific chart?"
      ],
      "metadata": {
        "id": "t6dVpIINYklI"
      }
    },
    {
      "cell_type": "markdown",
      "source": [],
      "metadata": {
        "id": "5aaW0BYyYklI"
      }
    },
    {
      "cell_type": "markdown",
      "source": [
        "##### 2. What is/are the insight(s) found from the chart?"
      ],
      "metadata": {
        "id": "ijmpgYnKYklI"
      }
    },
    {
      "cell_type": "markdown",
      "source": [
        "So, we can see that half the devices have Bluetooth, and half don’t."
      ],
      "metadata": {
        "id": "PSx9atu2YklI"
      }
    },
    {
      "cell_type": "markdown",
      "source": [
        "##### 3. Will the gained insights help creating a positive business impact? \n",
        "Are there any insights that lead to negative growth? Justify with specific reason."
      ],
      "metadata": {
        "id": "-JiQyfWJYklI"
      }
    },
    {
      "cell_type": "markdown",
      "source": [
        "Answer Here"
      ],
      "metadata": {
        "id": "BcBbebzrYklV"
      }
    },
    {
      "cell_type": "markdown",
      "source": [
        "#### Chart - 3"
      ],
      "metadata": {
        "id": "EM7whBJCYoAo"
      }
    },
    {
      "cell_type": "code",
      "source": [
        "# check for existence of corelation\n",
        "plt.figure(figsize=(20,10))\n",
        "plt.title('Correlation Heatmap')\n",
        "cor=df.corr()\n",
        "sns.heatmap(abs(cor), annot = True, cmap='YlGnBu')"
      ],
      "metadata": {
        "id": "t6GMdE67YoAp"
      },
      "execution_count": null,
      "outputs": []
    },
    {
      "cell_type": "markdown",
      "source": [
        "##### 1. Why did you pick the specific chart?"
      ],
      "metadata": {
        "id": "fge-S5ZAYoAp"
      }
    },
    {
      "cell_type": "markdown",
      "source": [
        "Answer Here."
      ],
      "metadata": {
        "id": "5dBItgRVYoAp"
      }
    },
    {
      "cell_type": "markdown",
      "source": [
        "##### 2. What is/are the insight(s) found from the chart?"
      ],
      "metadata": {
        "id": "85gYPyotYoAp"
      }
    },
    {
      "cell_type": "markdown",
      "source": [
        "From the heatmap we find that ram and price range are highly  corelated ,pc and tc are also highly correlated ,and 4g and 3g are also highly co related with each other."
      ],
      "metadata": {
        "id": "4jstXR6OYoAp"
      }
    },
    {
      "cell_type": "markdown",
      "source": [
        "##### 3. Will the gained insights help creating a positive business impact? \n",
        "Are there any insights that lead to negative growth? Justify with specific reason."
      ],
      "metadata": {
        "id": "RoGjAbkUYoAp"
      }
    },
    {
      "cell_type": "markdown",
      "source": [
        "Answer Here"
      ],
      "metadata": {
        "id": "zfJ8IqMcYoAp"
      }
    },
    {
      "cell_type": "markdown",
      "source": [
        "#### Chart - 4"
      ],
      "metadata": {
        "id": "4Of9eVA-YrdM"
      }
    },
    {
      "cell_type": "code",
      "source": [
        "#checking for outliers\n",
        "\n",
        "plt.figure(figsize=(25,10))\n",
        "for index,item in enumerate([i for i in df.describe().columns.to_list()] ):\n",
        "  plt.subplot(5,5,index+1)\n",
        "  sns.boxplot(df[item])\n",
        "print(\"\\n\")\n",
        "plt.show()\n"
      ],
      "metadata": {
        "id": "W50tTxRIjdes"
      },
      "execution_count": null,
      "outputs": []
    },
    {
      "cell_type": "markdown",
      "source": [
        "##### 1. Why did you pick the specific chart?"
      ],
      "metadata": {
        "id": "iky9q4vBYrdO"
      }
    },
    {
      "cell_type": "markdown",
      "source": [
        "Answer Here."
      ],
      "metadata": {
        "id": "aJRCwT6DYrdO"
      }
    },
    {
      "cell_type": "markdown",
      "source": [
        "##### 2. What is/are the insight(s) found from the chart?"
      ],
      "metadata": {
        "id": "F6T5p64dYrdO"
      }
    },
    {
      "cell_type": "markdown",
      "source": [
        "From the above plot we find that there is no out liers are present in the given data sets."
      ],
      "metadata": {
        "id": "Xx8WAJvtYrdO"
      }
    },
    {
      "cell_type": "markdown",
      "source": [
        "##### 3. Will the gained insights help creating a positive business impact? \n",
        "Are there any insights that lead to negative growth? Justify with specific reason."
      ],
      "metadata": {
        "id": "y-Ehk30pYrdP"
      }
    },
    {
      "cell_type": "markdown",
      "source": [
        "Answer Here"
      ],
      "metadata": {
        "id": "jLNxxz7MYrdP"
      }
    },
    {
      "cell_type": "markdown",
      "source": [
        "#### Chart - 5"
      ],
      "metadata": {
        "id": "bamQiAODYuh1"
      }
    },
    {
      "cell_type": "code",
      "source": [
        "# Plot of binary features against price range\n",
        "\n",
        "for col in binary_features:\n",
        "  fig, (ax1, ax2) = plt.subplots(ncols = 2, figsize = (15, 6))\n",
        "\n",
        "  df[col].value_counts().plot.pie (autopct='%1.1f%%', ax = ax1, shadow=True, labeldistance=None)\n",
        "  ax1.set_title('Distribution by price range')\n",
        "  ax1.legend(['Support', 'Does not Support'])\n",
        "  sns.countplot(x = col, hue = 'price_range', data = df, ax = ax2, color = 'green')\n",
        "  ax2.set_title('Distribution by price range')\n",
        "  ax2.set_xlabel(col)\n",
        "  ax2.legend(['Low Cost', 'Medium Cost', 'High Cost', 'Very High Cost'])\n",
        "  ax2.set_xticklabels(['Does not Support', 'Support'])"
      ],
      "metadata": {
        "id": "TIJwrbroYuh3"
      },
      "execution_count": null,
      "outputs": []
    },
    {
      "cell_type": "markdown",
      "source": [
        "##### 1. Why did you pick the specific chart?"
      ],
      "metadata": {
        "id": "QHF8YVU7Yuh3"
      }
    },
    {
      "cell_type": "markdown",
      "source": [
        "Answer Here."
      ],
      "metadata": {
        "id": "dcxuIMRPYuh3"
      }
    },
    {
      "cell_type": "markdown",
      "source": [
        "##### 2. What is/are the insight(s) found from the chart?"
      ],
      "metadata": {
        "id": "GwzvFGzlYuh3"
      }
    },
    {
      "cell_type": "markdown",
      "source": [
        "Here we find out that price distribution with and without binary data sets."
      ],
      "metadata": {
        "id": "uyqkiB8YYuh3"
      }
    },
    {
      "cell_type": "markdown",
      "source": [
        "##### 3. Will the gained insights help creating a positive business impact? \n",
        "Are there any insights that lead to negative growth? Justify with specific reason."
      ],
      "metadata": {
        "id": "qYpmQ266Yuh3"
      }
    },
    {
      "cell_type": "markdown",
      "source": [
        "Answer Here"
      ],
      "metadata": {
        "id": "_WtzZ_hCYuh4"
      }
    },
    {
      "cell_type": "markdown",
      "source": [
        "#### Chart - 6"
      ],
      "metadata": {
        "id": "OH-pJp9IphqM"
      }
    },
    {
      "cell_type": "code",
      "source": [
        "# Plot of binary features against price range\n",
        "c=df[normal_feature]\n",
        "for col in normal_feature:\n",
        "  fig, axs = plt.subplots(1,2, figsize=(15,5))\n",
        "  sns.kdeplot(data=df, x=col, hue='price_range', ax=axs[0])\n",
        "  sns.boxplot(data=df, x='price_range', y=col, ax=axs[1])\n",
        "  plt.show()"
      ],
      "metadata": {
        "id": "km73vtBqBNN0"
      },
      "execution_count": null,
      "outputs": []
    },
    {
      "cell_type": "markdown",
      "source": [
        "##### 1. Why did you pick the specific chart?"
      ],
      "metadata": {
        "id": "bbFf2-_FphqN"
      }
    },
    {
      "cell_type": "markdown",
      "source": [
        "Answer Here."
      ],
      "metadata": {
        "id": "loh7H2nzphqN"
      }
    },
    {
      "cell_type": "markdown",
      "source": [
        "##### 2. What is/are the insight(s) found from the chart?"
      ],
      "metadata": {
        "id": "_ouA3fa0phqN"
      }
    },
    {
      "cell_type": "markdown",
      "source": [
        "Here we finding out the price distribution with respect to the normal data sets."
      ],
      "metadata": {
        "id": "VECbqPI7phqN"
      }
    },
    {
      "cell_type": "markdown",
      "source": [
        "##### 3. Will the gained insights help creating a positive business impact? \n",
        "Are there any insights that lead to negative growth? Justify with specific reason."
      ],
      "metadata": {
        "id": "Seke61FWphqN"
      }
    },
    {
      "cell_type": "markdown",
      "source": [
        "Answer Here"
      ],
      "metadata": {
        "id": "DW4_bGpfphqN"
      }
    },
    {
      "cell_type": "markdown",
      "source": [
        "#### Chart - 7"
      ],
      "metadata": {
        "id": "PIIx-8_IphqN"
      }
    },
    {
      "cell_type": "markdown",
      "source": [
        "##### 1. Why did you pick the specific chart?"
      ],
      "metadata": {
        "id": "t27r6nlMphqO"
      }
    },
    {
      "cell_type": "markdown",
      "source": [
        "Answer Here."
      ],
      "metadata": {
        "id": "iv6ro40sphqO"
      }
    },
    {
      "cell_type": "markdown",
      "source": [
        "##### 2. What is/are the insight(s) found from the chart?"
      ],
      "metadata": {
        "id": "r2jJGEOYphqO"
      }
    },
    {
      "cell_type": "markdown",
      "source": [
        "Answer Here"
      ],
      "metadata": {
        "id": "Po6ZPi4hphqO"
      }
    },
    {
      "cell_type": "markdown",
      "source": [
        "##### 3. Will the gained insights help creating a positive business impact? \n",
        "Are there any insights that lead to negative growth? Justify with specific reason."
      ],
      "metadata": {
        "id": "b0JNsNcRphqO"
      }
    },
    {
      "cell_type": "markdown",
      "source": [
        "Answer Here"
      ],
      "metadata": {
        "id": "xvSq8iUTphqO"
      }
    },
    {
      "cell_type": "markdown",
      "source": [
        "#### Chart - 8"
      ],
      "metadata": {
        "id": "BZR9WyysphqO"
      }
    },
    {
      "cell_type": "code",
      "source": [
        "# Chart - 8 visualization code"
      ],
      "metadata": {
        "id": "TdPTWpAVphqO"
      },
      "execution_count": null,
      "outputs": []
    },
    {
      "cell_type": "markdown",
      "source": [
        "##### 1. Why did you pick the specific chart?"
      ],
      "metadata": {
        "id": "jj7wYXLtphqO"
      }
    },
    {
      "cell_type": "markdown",
      "source": [
        "Answer Here."
      ],
      "metadata": {
        "id": "Ob8u6rCTphqO"
      }
    },
    {
      "cell_type": "markdown",
      "source": [
        "##### 2. What is/are the insight(s) found from the chart?"
      ],
      "metadata": {
        "id": "eZrbJ2SmphqO"
      }
    },
    {
      "cell_type": "markdown",
      "source": [
        "Answer Here"
      ],
      "metadata": {
        "id": "mZtgC_hjphqO"
      }
    },
    {
      "cell_type": "markdown",
      "source": [
        "##### 3. Will the gained insights help creating a positive business impact? \n",
        "Are there any insights that lead to negative growth? Justify with specific reason."
      ],
      "metadata": {
        "id": "rFu4xreNphqO"
      }
    },
    {
      "cell_type": "markdown",
      "source": [
        "Answer Here"
      ],
      "metadata": {
        "id": "ey_0qi68phqO"
      }
    },
    {
      "cell_type": "markdown",
      "source": [
        "## ***5. Hypothesis Testing***"
      ],
      "metadata": {
        "id": "g-ATYxFrGrvw"
      }
    },
    {
      "cell_type": "markdown",
      "source": [
        "### Based on your chart experiments, define three hypothetical statements from the dataset. In the next three questions, perform hypothesis testing to obtain final conclusion about the statements through your code and statistical testing."
      ],
      "metadata": {
        "id": "Yfr_Vlr8HBkt"
      }
    },
    {
      "cell_type": "markdown",
      "source": [
        "Answer Here."
      ],
      "metadata": {
        "id": "-7MS06SUHkB-"
      }
    },
    {
      "cell_type": "markdown",
      "source": [
        "### Hypothetical Statement - 1"
      ],
      "metadata": {
        "id": "8yEUt7NnHlrM"
      }
    },
    {
      "cell_type": "code",
      "source": [
        "# parameter for Support Vector Classifier\n",
        "svc_params = {'C':range(5,10,2),\n",
        "              'kernel':['rbf','linear', 'poly', 'sigmoid',]}\n",
        "# After finding the best parameters, we commented on all the other parameters for faster execution"
      ],
      "metadata": {
        "id": "y1fy76TU09JS"
      },
      "execution_count": null,
      "outputs": []
    },
    {
      "cell_type": "code",
      "source": [
        "svc_grid = GridSearchCV(SVC(),param_grid=svc_params,cv=5,verbose=True,scoring='accuracy',n_jobs=-1)\n",
        "svc_grid.fit(X_train,y_train)"
      ],
      "metadata": {
        "id": "hbwOuBqb1Ao7"
      },
      "execution_count": null,
      "outputs": []
    },
    {
      "cell_type": "code",
      "source": [
        "svc_grid.best_params_"
      ],
      "metadata": {
        "id": "dxrt7mL71Dbv"
      },
      "execution_count": null,
      "outputs": []
    },
    {
      "cell_type": "code",
      "source": [
        "ML(SVC(C= 5, kernel= 'linear'))"
      ],
      "metadata": {
        "id": "eqIUhlVl1HhX"
      },
      "execution_count": null,
      "outputs": []
    },
    {
      "cell_type": "markdown",
      "source": [
        "#### 1. State Your research hypothesis as a null hypothesis and alternate hypothesis."
      ],
      "metadata": {
        "id": "tEA2Xm5dHt1r"
      }
    },
    {
      "cell_type": "markdown",
      "source": [
        "Answer Here."
      ],
      "metadata": {
        "id": "HI9ZP0laH0D-"
      }
    },
    {
      "cell_type": "markdown",
      "source": [
        "#### 2. Perform an appropriate statistical test."
      ],
      "metadata": {
        "id": "I79__PHVH19G"
      }
    },
    {
      "cell_type": "code",
      "source": [
        "# Perform Statistical Test to obtain P-Value"
      ],
      "metadata": {
        "id": "oZrfquKtyian"
      },
      "execution_count": null,
      "outputs": []
    },
    {
      "cell_type": "markdown",
      "source": [
        "##### Which statistical test have you done to obtain P-Value?"
      ],
      "metadata": {
        "id": "Ou-I18pAyIpj"
      }
    },
    {
      "cell_type": "markdown",
      "source": [
        "Answer Here."
      ],
      "metadata": {
        "id": "s2U0kk00ygSB"
      }
    },
    {
      "cell_type": "markdown",
      "source": [
        "##### Why did you choose the specific statistical test?"
      ],
      "metadata": {
        "id": "fF3858GYyt-u"
      }
    },
    {
      "cell_type": "markdown",
      "source": [
        "Answer Here."
      ],
      "metadata": {
        "id": "HO4K0gP5y3B4"
      }
    },
    {
      "cell_type": "markdown",
      "source": [
        "### Hypothetical Statement - 2"
      ],
      "metadata": {
        "id": "4_0_7-oCpUZd"
      }
    },
    {
      "cell_type": "markdown",
      "source": [
        "#### 1. State Your research hypothesis as a null hypothesis and alternate hypothesis."
      ],
      "metadata": {
        "id": "hwyV_J3ipUZe"
      }
    },
    {
      "cell_type": "markdown",
      "source": [
        "Answer Here."
      ],
      "metadata": {
        "id": "FnpLGJ-4pUZe"
      }
    },
    {
      "cell_type": "markdown",
      "source": [
        "#### 2. Perform an appropriate statistical test."
      ],
      "metadata": {
        "id": "3yB-zSqbpUZe"
      }
    },
    {
      "cell_type": "code",
      "source": [
        "# Perform Statistical Test to obtain P-Value"
      ],
      "metadata": {
        "id": "sWxdNTXNpUZe"
      },
      "execution_count": null,
      "outputs": []
    },
    {
      "cell_type": "markdown",
      "source": [
        "##### Which statistical test have you done to obtain P-Value?"
      ],
      "metadata": {
        "id": "dEUvejAfpUZe"
      }
    },
    {
      "cell_type": "markdown",
      "source": [
        "Answer Here."
      ],
      "metadata": {
        "id": "oLDrPz7HpUZf"
      }
    },
    {
      "cell_type": "markdown",
      "source": [
        "##### Why did you choose the specific statistical test?"
      ],
      "metadata": {
        "id": "Fd15vwWVpUZf"
      }
    },
    {
      "cell_type": "markdown",
      "source": [
        "Answer Here."
      ],
      "metadata": {
        "id": "4xOGYyiBpUZf"
      }
    },
    {
      "cell_type": "markdown",
      "source": [
        "### Hypothetical Statement - 3"
      ],
      "metadata": {
        "id": "bn_IUdTipZyH"
      }
    },
    {
      "cell_type": "markdown",
      "source": [
        "#### 1. State Your research hypothesis as a null hypothesis and alternate hypothesis."
      ],
      "metadata": {
        "id": "49K5P_iCpZyH"
      }
    },
    {
      "cell_type": "markdown",
      "source": [
        "Answer Here."
      ],
      "metadata": {
        "id": "7gWI5rT9pZyH"
      }
    },
    {
      "cell_type": "markdown",
      "source": [
        "#### 2. Perform an appropriate statistical test."
      ],
      "metadata": {
        "id": "Nff-vKELpZyI"
      }
    },
    {
      "cell_type": "code",
      "source": [
        "# Perform Statistical Test to obtain P-Value"
      ],
      "metadata": {
        "id": "s6AnJQjtpZyI"
      },
      "execution_count": null,
      "outputs": []
    },
    {
      "cell_type": "markdown",
      "source": [
        "##### Which statistical test have you done to obtain P-Value?"
      ],
      "metadata": {
        "id": "kLW572S8pZyI"
      }
    },
    {
      "cell_type": "markdown",
      "source": [
        "Answer Here."
      ],
      "metadata": {
        "id": "ytWJ8v15pZyI"
      }
    },
    {
      "cell_type": "markdown",
      "source": [
        "##### Why did you choose the specific statistical test?"
      ],
      "metadata": {
        "id": "dWbDXHzopZyI"
      }
    },
    {
      "cell_type": "markdown",
      "source": [
        "Answer Here."
      ],
      "metadata": {
        "id": "M99G98V6pZyI"
      }
    },
    {
      "cell_type": "markdown",
      "source": [
        "## ***6. Feature Engineering & Data Pre-processing***"
      ],
      "metadata": {
        "id": "yLjJCtPM0KBk"
      }
    },
    {
      "cell_type": "markdown",
      "source": [
        "### 1. Handling Missing Values"
      ],
      "metadata": {
        "id": "xiyOF9F70UgQ"
      }
    },
    {
      "cell_type": "code",
      "source": [
        "# Handling Missing Values & Missing Value Imputation\n",
        "#finding out no. of px_height and sc_w which cannot be zero\n",
        "a=len(df[df.px_height==0])\n",
        "b=len(df[df.sc_w==0])\n",
        "print('no. pixel height equal to zero:',a)\n",
        "print('no. screen width equal to zero:',b)\n",
        "\n",
        "#assigning the new value (mean value) to the zero.\n",
        "mean1=df.px_height.mean()\n",
        "mean2=df.sc_w.mean()\n",
        "df['sc_w'][df[df.sc_w == 0].index] = mean1\n",
        "df['px_height'][df[df.px_height == 0].index] = mean2"
      ],
      "metadata": {
        "id": "iRsAHk1K0fpS"
      },
      "execution_count": null,
      "outputs": []
    },
    {
      "cell_type": "markdown",
      "source": [
        "#### What all missing value imputation techniques have you used and why did you use those techniques?"
      ],
      "metadata": {
        "id": "7wuGOrhz0itI"
      }
    },
    {
      "cell_type": "markdown",
      "source": [
        "From the above we find that minimum value of px_height(pixel height ) and sc_w(screen width) cannot be zero ,which can't be so we need to handle that . so we have to remove those zeroes with mean ."
      ],
      "metadata": {
        "id": "1ixusLtI0pqI"
      }
    },
    {
      "cell_type": "markdown",
      "source": [
        "### 2. Handling Outliers"
      ],
      "metadata": {
        "id": "id1riN9m0vUs"
      }
    },
    {
      "cell_type": "code",
      "source": [
        "# Handling Outliers & Outlier treatments\n",
        "#Hence there is no outliers are present in the given data set.\n",
        "\n"
      ],
      "metadata": {
        "id": "M6w2CzZf04JK"
      },
      "execution_count": null,
      "outputs": []
    },
    {
      "cell_type": "markdown",
      "source": [
        "##### What all outlier treatment techniques have you used and why did you use those techniques?"
      ],
      "metadata": {
        "id": "578E2V7j08f6"
      }
    },
    {
      "cell_type": "markdown",
      "source": [
        "Answer Here."
      ],
      "metadata": {
        "id": "uGZz5OrT1HH-"
      }
    },
    {
      "cell_type": "markdown",
      "source": [
        "### 3. Categorical Encoding"
      ],
      "metadata": {
        "id": "89xtkJwZ18nB"
      }
    },
    {
      "cell_type": "code",
      "source": [
        "#no need"
      ],
      "metadata": {
        "id": "BRJO1OKM19EG"
      },
      "execution_count": null,
      "outputs": []
    },
    {
      "cell_type": "markdown",
      "source": [
        "#### What all categorical encoding techniques have you used & why did you use those techniques?"
      ],
      "metadata": {
        "id": "67NQN5KX2AMe"
      }
    },
    {
      "cell_type": "markdown",
      "source": [
        "Answer Here."
      ],
      "metadata": {
        "id": "UDaue5h32n_G"
      }
    },
    {
      "cell_type": "markdown",
      "source": [
        "### 4. Textual Data Preprocessing \n",
        "(It's mandatory for textual dataset i.e., NLP, Sentiment Analysis, Text Clustering etc.)"
      ],
      "metadata": {
        "id": "Iwf50b-R2tYG"
      }
    },
    {
      "cell_type": "code",
      "source": [
        "#no need."
      ],
      "metadata": {
        "id": "HnyvDqMwCBLb"
      },
      "execution_count": null,
      "outputs": []
    },
    {
      "cell_type": "markdown",
      "source": [
        "#### 1. Expand Contraction"
      ],
      "metadata": {
        "id": "GMQiZwjn3iu7"
      }
    },
    {
      "cell_type": "code",
      "source": [
        "# Expand Contraction"
      ],
      "metadata": {
        "id": "PTouz10C3oNN"
      },
      "execution_count": null,
      "outputs": []
    },
    {
      "cell_type": "markdown",
      "source": [
        "#### 2. Lower Casing"
      ],
      "metadata": {
        "id": "WVIkgGqN3qsr"
      }
    },
    {
      "cell_type": "code",
      "source": [
        "# Lower Casing"
      ],
      "metadata": {
        "id": "88JnJ1jN3w7j"
      },
      "execution_count": null,
      "outputs": []
    },
    {
      "cell_type": "markdown",
      "source": [
        "#### 3. Removing Punctuations"
      ],
      "metadata": {
        "id": "XkPnILGE3zoT"
      }
    },
    {
      "cell_type": "code",
      "source": [
        "# Remove Punctuations"
      ],
      "metadata": {
        "id": "vqbBqNaA33c0"
      },
      "execution_count": null,
      "outputs": []
    },
    {
      "cell_type": "markdown",
      "source": [
        "#### 4. Removing URLs & Removing words and digits contain digits."
      ],
      "metadata": {
        "id": "Hlsf0x5436Go"
      }
    },
    {
      "cell_type": "code",
      "source": [
        "# Remove URLs & Remove words and digits contain digits"
      ],
      "metadata": {
        "id": "2sxKgKxu4Ip3"
      },
      "execution_count": null,
      "outputs": []
    },
    {
      "cell_type": "markdown",
      "source": [
        "#### 5. Removing Stopwords & Removing White spaces"
      ],
      "metadata": {
        "id": "mT9DMSJo4nBL"
      }
    },
    {
      "cell_type": "code",
      "source": [
        "# Remove Stopwords"
      ],
      "metadata": {
        "id": "T2LSJh154s8W"
      },
      "execution_count": null,
      "outputs": []
    },
    {
      "cell_type": "code",
      "source": [
        "# Remove White spaces"
      ],
      "metadata": {
        "id": "EgLJGffy4vm0"
      },
      "execution_count": null,
      "outputs": []
    },
    {
      "cell_type": "markdown",
      "source": [
        "#### 6. Rephrase Text"
      ],
      "metadata": {
        "id": "c49ITxTc407N"
      }
    },
    {
      "cell_type": "code",
      "source": [
        "# Rephrase Text"
      ],
      "metadata": {
        "id": "foqY80Qu48N2"
      },
      "execution_count": null,
      "outputs": []
    },
    {
      "cell_type": "markdown",
      "source": [
        "#### 7. Tokenization"
      ],
      "metadata": {
        "id": "OeJFEK0N496M"
      }
    },
    {
      "cell_type": "code",
      "source": [
        "# Tokenization"
      ],
      "metadata": {
        "id": "ijx1rUOS5CUU"
      },
      "execution_count": null,
      "outputs": []
    },
    {
      "cell_type": "markdown",
      "source": [
        "#### 8. Text Normalization"
      ],
      "metadata": {
        "id": "9ExmJH0g5HBk"
      }
    },
    {
      "cell_type": "code",
      "source": [
        "# Normalizing Text (i.e., Stemming, Lemmatization etc.)"
      ],
      "metadata": {
        "id": "AIJ1a-Zc5PY8"
      },
      "execution_count": null,
      "outputs": []
    },
    {
      "cell_type": "markdown",
      "source": [
        "##### Which text normalization technique have you used and why?"
      ],
      "metadata": {
        "id": "cJNqERVU536h"
      }
    },
    {
      "cell_type": "markdown",
      "source": [
        "Answer Here."
      ],
      "metadata": {
        "id": "Z9jKVxE06BC1"
      }
    },
    {
      "cell_type": "markdown",
      "source": [
        "#### 9. Part of speech tagging"
      ],
      "metadata": {
        "id": "k5UmGsbsOxih"
      }
    },
    {
      "cell_type": "code",
      "source": [
        "# POS Taging"
      ],
      "metadata": {
        "id": "btT3ZJBAO6Ik"
      },
      "execution_count": null,
      "outputs": []
    },
    {
      "cell_type": "markdown",
      "source": [
        "#### 10. Text Vectorization"
      ],
      "metadata": {
        "id": "T0VqWOYE6DLQ"
      }
    },
    {
      "cell_type": "code",
      "source": [
        "# Vectorizing Text"
      ],
      "metadata": {
        "id": "yBRtdhth6JDE"
      },
      "execution_count": null,
      "outputs": []
    },
    {
      "cell_type": "markdown",
      "source": [
        "##### Which text vectorization technique have you used and why?"
      ],
      "metadata": {
        "id": "qBMux9mC6MCf"
      }
    },
    {
      "cell_type": "markdown",
      "source": [
        "Answer Here."
      ],
      "metadata": {
        "id": "su2EnbCh6UKQ"
      }
    },
    {
      "cell_type": "code",
      "source": [
        "df.head(10)"
      ],
      "metadata": {
        "id": "21JmIYMG2hEo"
      },
      "execution_count": null,
      "outputs": []
    },
    {
      "cell_type": "markdown",
      "source": [
        "### 4. Feature Manipulation & Selection"
      ],
      "metadata": {
        "id": "-oLEiFgy-5Pf"
      }
    },
    {
      "cell_type": "code",
      "source": [
        "# no need"
      ],
      "metadata": {
        "id": "4bIoqu631478"
      },
      "execution_count": null,
      "outputs": []
    },
    {
      "cell_type": "markdown",
      "source": [
        "#### 1. Feature Manipulation"
      ],
      "metadata": {
        "id": "C74aWNz2AliB"
      }
    },
    {
      "cell_type": "code",
      "source": [
        "df.columns"
      ],
      "metadata": {
        "id": "Rbi0Cg9qIEWX"
      },
      "execution_count": null,
      "outputs": []
    },
    {
      "cell_type": "code",
      "source": [
        "from matplotlib.axes import BarContainer\n",
        "# Manipulate Features to minimize feature correlation and create new features\n",
        "#screen size is equal to the diagonal of the screen in inches\n",
        "#1 cm =.393 inches\n",
        "#diagonal=sqrt((df.sc_h*.393)^2+(df.sc_w*.393)^2)\n",
        "#df['screen_size']=(df.sc_h*df.sc_w)\n",
        "#df.head()\n",
        "import math as m\n",
        "sc_h_i=.393*df.sc_h\n",
        "sc_w_i=.393*df.sc_w\n",
        "a=sc_h_i**2\n",
        "b=sc_w_i**2\n",
        "c=a+b\n",
        "\n",
        "df['screen_size']=(np.sqrt(c))\n",
        "df.drop(df.sc_h, axis=0,inplace=True)\n",
        "df.drop(df.sc_w, axis=1,inplace=True)\n",
        "\n",
        "\n"
      ],
      "metadata": {
        "id": "h1qC4yhBApWC"
      },
      "execution_count": null,
      "outputs": []
    },
    {
      "cell_type": "code",
      "source": [
        "df.head()"
      ],
      "metadata": {
        "id": "Yf41vIrZ2EgO"
      },
      "execution_count": null,
      "outputs": []
    },
    {
      "cell_type": "markdown",
      "source": [
        "#### 2. Feature Selection"
      ],
      "metadata": {
        "id": "2DejudWSA-a0"
      }
    },
    {
      "cell_type": "code",
      "source": [
        "# Select your features wisely to avoid overfitting"
      ],
      "metadata": {
        "id": "YLhe8UmaBCEE"
      },
      "execution_count": null,
      "outputs": []
    },
    {
      "cell_type": "markdown",
      "source": [
        "##### What all feature selection methods have you used  and why?"
      ],
      "metadata": {
        "id": "pEMng2IbBLp7"
      }
    },
    {
      "cell_type": "markdown",
      "source": [
        "Answer Here."
      ],
      "metadata": {
        "id": "rb2Lh6Z8BgGs"
      }
    },
    {
      "cell_type": "markdown",
      "source": [
        "##### Which all features you found important and why?"
      ],
      "metadata": {
        "id": "rAdphbQ9Bhjc"
      }
    },
    {
      "cell_type": "markdown",
      "source": [
        "Answer Here."
      ],
      "metadata": {
        "id": "fGgaEstsBnaf"
      }
    },
    {
      "cell_type": "markdown",
      "source": [
        "### 5. Data Transformation"
      ],
      "metadata": {
        "id": "TNVZ9zx19K6k"
      }
    },
    {
      "cell_type": "code",
      "source": [
        "# no need"
      ],
      "metadata": {
        "id": "TBOsxDaw11M1"
      },
      "execution_count": null,
      "outputs": []
    },
    {
      "cell_type": "markdown",
      "source": [
        "#### Do you think that your data needs to be transformed? If yes, which transformation have you used. Explain Why?"
      ],
      "metadata": {
        "id": "nqoHp30x9hH9"
      }
    },
    {
      "cell_type": "code",
      "source": [
        "# Transform Your data"
      ],
      "metadata": {
        "id": "I6quWQ1T9rtH"
      },
      "execution_count": null,
      "outputs": []
    },
    {
      "cell_type": "markdown",
      "source": [
        "### 6. Data Scaling"
      ],
      "metadata": {
        "id": "rMDnDkt2B6du"
      }
    },
    {
      "cell_type": "code",
      "source": [
        "#no need"
      ],
      "metadata": {
        "id": "YBKp3tOfG_3s"
      },
      "execution_count": null,
      "outputs": []
    },
    {
      "cell_type": "markdown",
      "source": [
        "##### Which method have you used to scale you data and why?"
      ],
      "metadata": {
        "id": "yiiVWRdJDDil"
      }
    },
    {
      "cell_type": "markdown",
      "source": [
        "### 7. Dimesionality Reduction"
      ],
      "metadata": {
        "id": "1UUpS68QDMuG"
      }
    },
    {
      "cell_type": "code",
      "source": [
        "# there are some variale which do play major role in pridecting the price of the mobile (blue,dual_sim,m_dep).\n",
        "df.columns"
      ],
      "metadata": {
        "id": "VITiwufQ1NEv"
      },
      "execution_count": null,
      "outputs": []
    },
    {
      "cell_type": "markdown",
      "source": [
        "##### Do you think that dimensionality reduction is needed? Explain Why?"
      ],
      "metadata": {
        "id": "kexQrXU-DjzY"
      }
    },
    {
      "cell_type": "markdown",
      "source": [
        "Answer Here."
      ],
      "metadata": {
        "id": "GGRlBsSGDtTQ"
      }
    },
    {
      "cell_type": "code",
      "source": [
        "# DImensionality Reduction (If needed)"
      ],
      "metadata": {
        "id": "kQfvxBBHDvCa"
      },
      "execution_count": null,
      "outputs": []
    },
    {
      "cell_type": "markdown",
      "source": [
        "##### Which dimensionality reduction technique have you used and why? (If dimensionality reduction done on dataset.)"
      ],
      "metadata": {
        "id": "T5CmagL3EC8N"
      }
    },
    {
      "cell_type": "markdown",
      "source": [
        "Answer Here."
      ],
      "metadata": {
        "id": "ZKr75IDuEM7t"
      }
    },
    {
      "cell_type": "markdown",
      "source": [
        "### 8. Data Splitting"
      ],
      "metadata": {
        "id": "BhH2vgX9EjGr"
      }
    },
    {
      "cell_type": "code",
      "source": [
        "df.columns"
      ],
      "metadata": {
        "id": "vHJejrpL3OCV"
      },
      "execution_count": null,
      "outputs": []
    },
    {
      "cell_type": "code",
      "source": [
        "# Split your data to train and test. Choose Splitting ratio wisely.\n",
        "# choose appropriate dependent and independent variables\n",
        "y = df.dropna().price_range\n",
        "X = df.dropna().drop(['battery_power', 'blue', 'clock_speed', 'dual_sim', 'fc', 'four_g',\n",
        "       'int_memory', 'm_dep', 'mobile_wt', 'n_cores', 'pc', 'px_height',\n",
        "       'px_width', 'ram', 'sc_h', 'sc_w', 'talk_time', 'three_g',\n",
        "       'touch_screen', 'wifi', 'screen_size'], axis=1)\n",
        "\n",
        "# Data transformation\n",
        "from scipy.stats import zscore\n",
        "X = X.apply(zscore)\n",
        "y = np.log10(y)"
      ],
      "metadata": {
        "id": "0CTyd2UwEyNM"
      },
      "execution_count": null,
      "outputs": []
    },
    {
      "cell_type": "code",
      "source": [
        "# splitting the dataset into the training set and test set \n",
        "# splitting the Train test data with 80 - 20\n",
        "\n",
        "X_train, X_test, y_train, y_test = train_test_split(X, y, test_size = 0.2, random_state = 1)"
      ],
      "metadata": {
        "id": "7yMwHPPl3eko"
      },
      "execution_count": null,
      "outputs": []
    },
    {
      "cell_type": "code",
      "source": [
        "# Shape of the Training and Test dataset\n",
        "print(\"Shape of the X_train dataset :\",X_train.shape)\n",
        "print(\"Shape of the X_test dataset :\",X_test.shape)\n",
        "print(\"Shape of the y_train dataset :\",y_train.shape)\n",
        "print(\"Shape of the y_test dataset :\",y_test.shape)"
      ],
      "metadata": {
        "id": "Hg0jTuD-36Sv"
      },
      "execution_count": null,
      "outputs": []
    },
    {
      "cell_type": "markdown",
      "source": [
        "##### What data splitting ratio have you used and why? "
      ],
      "metadata": {
        "id": "qjKvONjwE8ra"
      }
    },
    {
      "cell_type": "markdown",
      "source": [
        "Answer Here."
      ],
      "metadata": {
        "id": "Y2lJ8cobFDb_"
      }
    },
    {
      "cell_type": "markdown",
      "source": [
        "### 9. Handling Imbalanced Dataset"
      ],
      "metadata": {
        "id": "P1XJ9OREExlT"
      }
    },
    {
      "cell_type": "code",
      "source": [
        "#no need"
      ],
      "metadata": {
        "id": "0Xyq_iav1Fni"
      },
      "execution_count": null,
      "outputs": []
    },
    {
      "cell_type": "markdown",
      "source": [
        "##### Do you think the dataset is imbalanced? Explain Why."
      ],
      "metadata": {
        "id": "VFOzZv6IFROw"
      }
    },
    {
      "cell_type": "markdown",
      "source": [
        "Answer Here."
      ],
      "metadata": {
        "id": "GeKDIv7pFgcC"
      }
    },
    {
      "cell_type": "code",
      "source": [
        "# Handling Imbalanced Dataset (If needed)"
      ],
      "metadata": {
        "id": "nQsRhhZLFiDs"
      },
      "execution_count": null,
      "outputs": []
    },
    {
      "cell_type": "markdown",
      "source": [
        "##### What technique did you use to handle the imbalance dataset and why? (If needed to be balanced)"
      ],
      "metadata": {
        "id": "TIqpNgepFxVj"
      }
    },
    {
      "cell_type": "markdown",
      "source": [
        "Answer Here."
      ],
      "metadata": {
        "id": "qbet1HwdGDTz"
      }
    },
    {
      "cell_type": "markdown",
      "source": [
        "## ***7. ML Model Implementation***"
      ],
      "metadata": {
        "id": "VfCC591jGiD4"
      }
    },
    {
      "cell_type": "markdown",
      "source": [
        "### ML Model - 1\n",
        "\n",
        "# **KNN:**"
      ],
      "metadata": {
        "id": "OB4l2ZhMeS1U"
      }
    },
    {
      "cell_type": "code",
      "source": [
        "# Let's create numpy arrays for features and target\n",
        "X = df.drop('price_range',axis=1).values\n",
        "y = df['price_range'].values"
      ],
      "metadata": {
        "id": "gKN0dU7gUZB_"
      },
      "execution_count": null,
      "outputs": []
    },
    {
      "cell_type": "code",
      "source": [
        "# Importing train_test_split\n",
        "from sklearn.model_selection import train_test_split"
      ],
      "metadata": {
        "id": "wljsPTETUnmH"
      },
      "execution_count": null,
      "outputs": []
    },
    {
      "cell_type": "code",
      "source": [
        "X_train,X_test,y_train,y_test = train_test_split(X,y,test_size=0.4,random_state=42, stratify=y)"
      ],
      "metadata": {
        "id": "csOPTLNLUuDY"
      },
      "execution_count": null,
      "outputs": []
    },
    {
      "cell_type": "code",
      "source": [
        "# Import KNeighborsClassifier\n",
        "from sklearn.neighbors import KNeighborsClassifier\n",
        "\n",
        "#Setup arrays to store training and test accuracies\n",
        "neighbors = np.arange(1,9)\n",
        "train_accuracy =np.empty(len(neighbors))\n",
        "test_accuracy = np.empty(len(neighbors))\n",
        "\n",
        "for i,k in enumerate(neighbors):\n",
        "    # Setup a knn classifier with k neighbors\n",
        "    knn = KNeighborsClassifier(n_neighbors=k)\n",
        "    \n",
        "    # Fit the model\n",
        "    knn.fit(X_train, y_train)\n",
        "    \n",
        "    # Compute accuracy on the training set\n",
        "    train_accuracy[i] = knn.score(X_train, y_train)\n",
        "    \n",
        "    # Compute accuracy on the test set\n",
        "    test_accuracy[i] = knn.score(X_test, y_test) "
      ],
      "metadata": {
        "id": "kw5el_hdUzBt"
      },
      "execution_count": null,
      "outputs": []
    },
    {
      "cell_type": "code",
      "source": [
        "# Generate plot\n",
        "plt.title('k-NN Varying number of neighbors')\n",
        "plt.plot(neighbors, test_accuracy, label='Testing Accuracy')\n",
        "plt.plot(neighbors, train_accuracy, label='Training accuracy')\n",
        "plt.legend()\n",
        "plt.xlabel('Number of neighbors')\n",
        "plt.ylabel('Accuracy')\n",
        "plt.show()"
      ],
      "metadata": {
        "id": "Z2rAn98VU9aR"
      },
      "execution_count": null,
      "outputs": []
    },
    {
      "cell_type": "code",
      "source": [
        "# Setup a knn classifier with k neighbors\n",
        "knn = KNeighborsClassifier(n_neighbors=7)"
      ],
      "metadata": {
        "id": "TVvI75hvVHzA"
      },
      "execution_count": null,
      "outputs": []
    },
    {
      "cell_type": "code",
      "source": [
        "# Fit the model\n",
        "knn.fit(X_train,y_train)"
      ],
      "metadata": {
        "id": "jWDqcP73VKPW"
      },
      "execution_count": null,
      "outputs": []
    },
    {
      "cell_type": "code",
      "source": [
        "knn.score(X_test,y_test)"
      ],
      "metadata": {
        "id": "zHJS3dSIVNF3"
      },
      "execution_count": null,
      "outputs": []
    },
    {
      "cell_type": "markdown",
      "source": [
        "#### 1. Explain the ML Model used and it's performance using Evaluation metric Score Chart."
      ],
      "metadata": {
        "id": "ArJBuiUVfxKd"
      }
    },
    {
      "cell_type": "code",
      "source": [
        "# Visualizing evaluation Metric Score chart"
      ],
      "metadata": {
        "id": "rqD5ZohzfxKe"
      },
      "execution_count": null,
      "outputs": []
    },
    {
      "cell_type": "markdown",
      "source": [
        "#### 2. Cross- Validation & Hyperparameter Tuning"
      ],
      "metadata": {
        "id": "4qY1EAkEfxKe"
      }
    },
    {
      "cell_type": "code",
      "source": [
        "# ML Model - 1 Implementation with hyperparameter optimization techniques (i.e., GridSearch CV, RandomSearch CV, Bayesian Optimization etc.)\n",
        "\n",
        "# Fit the Algorithm\n",
        "\n",
        "# Predict on the model"
      ],
      "metadata": {
        "id": "Dy61ujd6fxKe"
      },
      "execution_count": null,
      "outputs": []
    },
    {
      "cell_type": "markdown",
      "source": [
        "##### Which hyperparameter optimization technique have you used and why?"
      ],
      "metadata": {
        "id": "PiV4Ypx8fxKe"
      }
    },
    {
      "cell_type": "markdown",
      "source": [
        "Answer Here."
      ],
      "metadata": {
        "id": "negyGRa7fxKf"
      }
    },
    {
      "cell_type": "markdown",
      "source": [
        "##### Have you seen any improvement? Note down the improvement with updates Evaluation metric Score Chart."
      ],
      "metadata": {
        "id": "TfvqoZmBfxKf"
      }
    },
    {
      "cell_type": "markdown",
      "source": [
        "Answer Here."
      ],
      "metadata": {
        "id": "OaLui8CcfxKf"
      }
    },
    {
      "cell_type": "markdown",
      "source": [
        "### ML Model - 2"
      ],
      "metadata": {
        "id": "dJ2tPlVmpsJ0"
      }
    },
    {
      "cell_type": "code",
      "source": [
        "from sklearn.linear_model import LogisticRegression\n",
        "\n",
        "clf = LogisticRegression(fit_intercept=True, max_iter=10000)\n",
        "clf.fit(X_train, y_train)"
      ],
      "metadata": {
        "id": "EDwFz2ZtXmTG"
      },
      "execution_count": null,
      "outputs": []
    },
    {
      "cell_type": "code",
      "source": [
        "# Get the model coefficients\n",
        "clf.coef_"
      ],
      "metadata": {
        "id": "lEoQ4cpsYB4k"
      },
      "execution_count": null,
      "outputs": []
    },
    {
      "cell_type": "code",
      "source": [
        "clf.intercept_"
      ],
      "metadata": {
        "id": "AE2-jehcYHfo"
      },
      "execution_count": null,
      "outputs": []
    },
    {
      "cell_type": "code",
      "source": [
        "# Get the predicted probabilities\n",
        "train_preds = clf.predict_proba(X_train)\n",
        "test_preds = clf.predict_proba(X_test)"
      ],
      "metadata": {
        "id": "KoDF-wGbYONf"
      },
      "execution_count": null,
      "outputs": []
    },
    {
      "cell_type": "code",
      "source": [
        "X_test"
      ],
      "metadata": {
        "id": "M1C0i8iZYSrd"
      },
      "execution_count": null,
      "outputs": []
    },
    {
      "cell_type": "code",
      "source": [
        "test_preds"
      ],
      "metadata": {
        "id": "2wnvQzZ3YY5T"
      },
      "execution_count": null,
      "outputs": []
    },
    {
      "cell_type": "code",
      "source": [
        "train_preds = clf.predict_proba(X_train)[:,1]\n",
        "test_preds = clf.predict_proba(X_test)[:,1]"
      ],
      "metadata": {
        "id": "Vf40lAUaYd4i"
      },
      "execution_count": null,
      "outputs": []
    },
    {
      "cell_type": "code",
      "source": [
        "test_preds"
      ],
      "metadata": {
        "id": "yo2fV4MNYiI4"
      },
      "execution_count": null,
      "outputs": []
    },
    {
      "cell_type": "code",
      "source": [
        "# Get the predicted classes\n",
        "train_class_preds = clf.predict(X_train)\n",
        "test_class_preds = clf.predict(X_test)"
      ],
      "metadata": {
        "id": "EWIhDHxPYoNP"
      },
      "execution_count": null,
      "outputs": []
    },
    {
      "cell_type": "code",
      "source": [
        "train_class_preds"
      ],
      "metadata": {
        "id": "5Kcgzp1-YuAk"
      },
      "execution_count": null,
      "outputs": []
    },
    {
      "cell_type": "code",
      "source": [
        "from sklearn.metrics import accuracy_score, confusion_matrix\n",
        "import seaborn as sns"
      ],
      "metadata": {
        "id": "CdUlk28fYz6A"
      },
      "execution_count": null,
      "outputs": []
    },
    {
      "cell_type": "code",
      "source": [
        "# Get the accuracy scores\n",
        "train_accuracy = accuracy_score(train_class_preds,y_train)\n",
        "test_accuracy = accuracy_score(test_class_preds,y_test)\n",
        "\n",
        "print(\"The accuracy on train data is \", train_accuracy)\n",
        "print(\"The accuracy on test data is \", test_accuracy)"
      ],
      "metadata": {
        "id": "f-Ic2b8aY3kr"
      },
      "execution_count": null,
      "outputs": []
    },
    {
      "cell_type": "code",
      "source": [
        "#Implementing Cross-validated Logistic Regression"
      ],
      "metadata": {
        "id": "RrQ5xYqOZIkZ"
      },
      "execution_count": null,
      "outputs": []
    },
    {
      "cell_type": "code",
      "source": [
        "from sklearn.linear_model import LogisticRegressionCV\n",
        "from sklearn.model_selection import cross_validate"
      ],
      "metadata": {
        "id": "u4XWaG-oZL77"
      },
      "execution_count": null,
      "outputs": []
    },
    {
      "cell_type": "code",
      "source": [
        "logistic = LogisticRegression()"
      ],
      "metadata": {
        "id": "jW7NaLnzZUVg"
      },
      "execution_count": null,
      "outputs": []
    },
    {
      "cell_type": "code",
      "source": [
        "scoring = ['accuracy']\n",
        "scores = cross_validate(logistic,X_train, y_train, scoring = scoring, cv = 5, return_train_score=True,return_estimator=True,verbose = 10)"
      ],
      "metadata": {
        "id": "9H9hmjA5ZYqK"
      },
      "execution_count": null,
      "outputs": []
    },
    {
      "cell_type": "code",
      "source": [
        "scores['train_accuracy']"
      ],
      "metadata": {
        "id": "NacH50ucZeCu"
      },
      "execution_count": null,
      "outputs": []
    },
    {
      "cell_type": "code",
      "source": [
        "scores['test_accuracy']"
      ],
      "metadata": {
        "id": "4_EmjJzJZisX"
      },
      "execution_count": null,
      "outputs": []
    },
    {
      "cell_type": "code",
      "source": [
        "scores['estimator']"
      ],
      "metadata": {
        "id": "0V0GzIioZnJR"
      },
      "execution_count": null,
      "outputs": []
    },
    {
      "cell_type": "markdown",
      "source": [
        "#### 1. Explain the ML Model used and it's performance using Evaluation metric Score Chart."
      ],
      "metadata": {
        "id": "JWYfwnehpsJ1"
      }
    },
    {
      "cell_type": "code",
      "source": [],
      "metadata": {
        "id": "yEl-hgQWpsJ1"
      },
      "execution_count": null,
      "outputs": []
    },
    {
      "cell_type": "markdown",
      "source": [
        "#### 2. Cross- Validation & Hyperparameter Tuning"
      ],
      "metadata": {
        "id": "-jK_YjpMpsJ2"
      }
    },
    {
      "cell_type": "code",
      "source": [
        "# ML Model - 1 Implementation with hyperparameter optimization techniques (i.e., GridSearch CV, RandomSearch CV, Bayesian Optimization etc.)\n",
        "\n",
        "# Fit the Algorithm\n",
        "\n",
        "# Predict on the model"
      ],
      "metadata": {
        "id": "Dn0EOfS6psJ2"
      },
      "execution_count": null,
      "outputs": []
    },
    {
      "cell_type": "markdown",
      "source": [
        "##### Which hyperparameter optimization technique have you used and why?"
      ],
      "metadata": {
        "id": "HAih1iBOpsJ2"
      }
    },
    {
      "cell_type": "markdown",
      "source": [
        "Answer Here."
      ],
      "metadata": {
        "id": "9kBgjYcdpsJ2"
      }
    },
    {
      "cell_type": "markdown",
      "source": [
        "##### Have you seen any improvement? Note down the improvement with updates Evaluation metric Score Chart."
      ],
      "metadata": {
        "id": "zVGeBEFhpsJ2"
      }
    },
    {
      "cell_type": "markdown",
      "source": [
        "Answer Here."
      ],
      "metadata": {
        "id": "74yRdG6UpsJ3"
      }
    },
    {
      "cell_type": "markdown",
      "source": [
        "#### 3. Explain each evaluation metric's indication towards business and the business impact pf the ML model used."
      ],
      "metadata": {
        "id": "bmKjuQ-FpsJ3"
      }
    },
    {
      "cell_type": "markdown",
      "source": [
        "A random forest is a supervised machine learning method built from decision tree techniques. This algorithm is used to anticipate behaviour and results in a variety of sectors, including banking and e-commerce.\n",
        "\n",
        "A random forest is a machine learning approach for solving regression and classification issues. It makes use of ensemble learning, which is a technique that combines multiple classifiers to solve complicated problems.\n",
        "\n",
        "A random forest method is made up of a large number of decision trees. The random forest algorithm’s ‘forest’ is trained via bagging or bootstrap aggregation. Bagging is a meta-algorithm ensemble that increases the accuracy of machine learning algorithms.\n",
        "\n",
        "The outcome is determined by the (random forest) algorithm based on the predictions of the decision trees. It forecasts by averaging or averaging the output of several trees. The precision of the outcome improves as the number of trees grows.\n",
        "![image.png](data:image/png;base64,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)\n",
        "\n",
        "A random forest system is built on a variety of decision trees. Every decision tree is made up of nodes that represent decisions, leaf nodes, and a root node. The leaf node of each tree represents the decision tree’s final result. The final product is chosen using a majority-voting procedure. In this situation, the output picked by the majority of the decision trees becomes the random forest system’s ultimate output. Let us now implement the random forest algorithm."
      ],
      "metadata": {
        "id": "BDKtOrBQpsJ3"
      }
    },
    {
      "cell_type": "markdown",
      "source": [
        "### ML Model - 3"
      ],
      "metadata": {
        "id": "Fze-IPXLpx6K"
      }
    },
    {
      "cell_type": "code",
      "source": [
        "#decision tree\n",
        "import pandas as pd\n",
        "from sklearn.metrics import accuracy_score, auc\n",
        "from sklearn.model_selection import train_test_split\n",
        "from sklearn.tree import DecisionTreeClassifier"
      ],
      "metadata": {
        "id": "3Cwgl3lobGIj"
      },
      "execution_count": null,
      "outputs": []
    },
    {
      "cell_type": "code",
      "source": [
        "humidity_classifier = DecisionTreeClassifier(criterion='entropy', max_leaf_nodes=10, random_state=0)\n",
        "humidity_classifier.fit(X_train, y_train)"
      ],
      "metadata": {
        "id": "KuHGwqooZ6vI"
      },
      "execution_count": null,
      "outputs": []
    },
    {
      "cell_type": "code",
      "source": [
        "y_predicted = humidity_classifier.predict(X_test)"
      ],
      "metadata": {
        "id": "VPwBl0VbaMiT"
      },
      "execution_count": null,
      "outputs": []
    },
    {
      "cell_type": "code",
      "source": [
        "y_predicted[:10]"
      ],
      "metadata": {
        "id": "F8JZN152aQIU"
      },
      "execution_count": null,
      "outputs": []
    },
    {
      "cell_type": "code",
      "source": [
        "accuracy_score(y_test, y_predicted) * 100"
      ],
      "metadata": {
        "id": "p1cUfOXgaU6n"
      },
      "execution_count": null,
      "outputs": []
    },
    {
      "cell_type": "markdown",
      "source": [
        "#### 1. Explain the ML Model used and it's performance using Evaluation metric Score Chart."
      ],
      "metadata": {
        "id": "U9CbRsd3UVET"
      }
    },
    {
      "cell_type": "code",
      "source": [],
      "metadata": {
        "id": "IqzTghK8UVEU"
      },
      "execution_count": null,
      "outputs": []
    },
    {
      "cell_type": "markdown",
      "source": [
        "#### 2. Cross- Validation & Hyperparameter Tuning"
      ],
      "metadata": {
        "id": "9PIHJqyupx6M"
      }
    },
    {
      "cell_type": "code",
      "source": [
        "# ML Model - 3 Implementation with hyperparameter optimization techniques (i.e., GridSearch CV, RandomSearch CV, Bayesian Optimization etc.)\n",
        "\n",
        "# Fit the Algorithm\n",
        "\n",
        "# Predict on the model"
      ],
      "metadata": {
        "id": "eSVXuaSKpx6M"
      },
      "execution_count": null,
      "outputs": []
    },
    {
      "cell_type": "markdown",
      "source": [
        "##### Which hyperparameter optimization technique have you used and why?"
      ],
      "metadata": {
        "id": "_-qAgymDpx6N"
      }
    },
    {
      "cell_type": "markdown",
      "source": [
        "Answer Here."
      ],
      "metadata": {
        "id": "lQMffxkwpx6N"
      }
    },
    {
      "cell_type": "markdown",
      "source": [
        "##### Have you seen any improvement? Note down the improvement with updates Evaluation metric Score Chart."
      ],
      "metadata": {
        "id": "Z-hykwinpx6N"
      }
    },
    {
      "cell_type": "markdown",
      "source": [
        "Answer Here."
      ],
      "metadata": {
        "id": "MzVzZC6opx6N"
      }
    },
    {
      "cell_type": "markdown",
      "source": [
        "### 1. Which Evaluation metrics did you consider for a positive business impact and why?"
      ],
      "metadata": {
        "id": "h_CCil-SKHpo"
      }
    },
    {
      "cell_type": "markdown",
      "source": [
        "Answer Here."
      ],
      "metadata": {
        "id": "jHVz9hHDKFms"
      }
    },
    {
      "cell_type": "markdown",
      "source": [
        "### 2. Which ML model did you choose from the above created models as your final prediction model and why?"
      ],
      "metadata": {
        "id": "cBFFvTBNJzUa"
      }
    },
    {
      "cell_type": "markdown",
      "source": [
        "Answer Here."
      ],
      "metadata": {
        "id": "6ksF5Q1LKTVm"
      }
    },
    {
      "cell_type": "markdown",
      "source": [
        "### 3. Explain the model which you have used and the feature importance using any model explainability tool?"
      ],
      "metadata": {
        "id": "HvGl1hHyA_VK"
      }
    },
    {
      "cell_type": "markdown",
      "source": [
        "Answer Here."
      ],
      "metadata": {
        "id": "YnvVTiIxBL-C"
      }
    },
    {
      "cell_type": "code",
      "source": [
        "# Applying XGBoost\n",
        "\n",
        "from xgboost import XGBClassifier\n",
        "\n",
        "xgb = XGBClassifier(max_depth = 5, learning_rate = 0.1)\n",
        "xgb.fit(X_train, y_train)\n",
        "XGBClassifier(max_depth=5, objective='multi:softprob')\n",
        "# Prediction\n",
        "\n",
        "y_pred_train = xgb.predict(X_train)\n",
        "y_pred_test = xgb.predict(X_test)\n",
        "# Evaluation metrics for test\n",
        "\n",
        "score = classification_report(y_test, y_pred_test)\n",
        "print('Classification Report for XGBoost(Test set)= ')\n",
        "print(score)"
      ],
      "metadata": {
        "id": "wwylgk6_7Brs"
      },
      "execution_count": null,
      "outputs": []
    },
    {
      "cell_type": "code",
      "source": [
        "# Evaluation metrics for train\n",
        "\n",
        "score = classification_report(y_train, y_pred_train)\n",
        "print('Classification Report for XGBoost(Train set)= ')\n",
        "print(score)"
      ],
      "metadata": {
        "id": "LZ1aCY2k7G9q"
      },
      "execution_count": null,
      "outputs": []
    },
    {
      "cell_type": "code",
      "source": [
        "\n",
        "# Cross validation\n",
        "\n",
        "grid = GridSearchCV(xgb, param_grid={'n_estimators': (10, 200), 'learning_rate': [1, 0.5, 0.1, 0.01, 0.001], 'max_depth': (5, 10),\n",
        "                                     'gamma': [1.5, 1.8], 'subsample': [0.3, 0.5, 0.8]}, cv = 5, scoring = 'accuracy', verbose = 10)\n",
        "grid.fit(X_train,y_train)"
      ],
      "metadata": {
        "id": "C4C19tmI7KJu"
      },
      "execution_count": null,
      "outputs": []
    },
    {
      "cell_type": "code",
      "source": [
        "# Prediction\n",
        "\n",
        "y_pred_train = grid.predict(X_train)\n",
        "y_pred_test = grid.predict(X_test)\n",
        "# Evaluation metrics for test\n",
        "\n",
        "score = classification_report(y_test, y_pred_test)\n",
        "print('Classification Report for tuned XGBoost(Test set)= ')\n",
        "print(score)\n",
        "     "
      ],
      "metadata": {
        "id": "a7sOo1pM7PMd"
      },
      "execution_count": null,
      "outputs": []
    },
    {
      "cell_type": "code",
      "source": [
        "import seaborn as sns\n",
        "from sklearn.metrics import confusion_matrix\n",
        "\n",
        "#Generate the confusion matrix\n",
        "cf_matrix = confusion_matrix(y_test, y_pred_test)\n",
        "\n",
        "print(cf_matrix)\n",
        "\n",
        "ax = sns.heatmap(cf_matrix, annot=True, cmap='Blues')\n",
        "\n",
        "ax.set_title('Seaborn Confusion Matrix with labels\\n\\n');\n",
        "ax.set_xlabel('\\nPredicted Values')\n",
        "ax.set_ylabel('Actual Values ');\n",
        "\n",
        "## Ticket labels - List must be in alphabetical order\n",
        "ax.xaxis.set_ticklabels([0,1,2,3])\n",
        "ax.yaxis.set_ticklabels([0,1,2,3])\n",
        "\n",
        "## Display the visualization of the Confusion Matrix.\n",
        "plt.show()"
      ],
      "metadata": {
        "id": "XCBgmytK7TD_"
      },
      "execution_count": null,
      "outputs": []
    },
    {
      "cell_type": "code",
      "source": [
        "# Evaluation metrics for train\n",
        "\n",
        "score = classification_report(y_train, y_pred_train)\n",
        "print('Classification Report for tuned XGBoost(Train set)= ')\n",
        "print(score)\n",
        "     "
      ],
      "metadata": {
        "id": "neSnCoEO7W3R"
      },
      "execution_count": null,
      "outputs": []
    },
    {
      "cell_type": "markdown",
      "source": [
        "## ***8.*** ***Future Work (Optional)***"
      ],
      "metadata": {
        "id": "EyNgTHvd2WFk"
      }
    },
    {
      "cell_type": "markdown",
      "source": [
        "### 1. Save the best performing ml model in a pickle file or joblib file format for deployment process.\n"
      ],
      "metadata": {
        "id": "KH5McJBi2d8v"
      }
    },
    {
      "cell_type": "code",
      "source": [
        "# Save the File"
      ],
      "metadata": {
        "id": "bQIANRl32f4J"
      },
      "execution_count": null,
      "outputs": []
    },
    {
      "cell_type": "markdown",
      "source": [
        "### 2. Again Load the saved model file and try to predict unseen data for a sanity check.\n"
      ],
      "metadata": {
        "id": "iW_Lq9qf2h6X"
      }
    },
    {
      "cell_type": "code",
      "source": [
        "# Load the File and predict unseen data."
      ],
      "metadata": {
        "id": "oEXk9ydD2nVC"
      },
      "execution_count": null,
      "outputs": []
    },
    {
      "cell_type": "markdown",
      "source": [
        "### ***Congrats! Your model is successfully created and ready for deployment on a live server for a real user interaction !!!***"
      ],
      "metadata": {
        "id": "-Kee-DAl2viO"
      }
    },
    {
      "cell_type": "markdown",
      "source": [
        "# **Conclusion**"
      ],
      "metadata": {
        "id": "gCX9965dhzqZ"
      }
    },
    {
      "cell_type": "markdown",
      "source": [
        "Conclusion\n",
        "\n",
        "From EDA we can see that here are mobile phones in 4 price ranges. The number of elements is almost similar.\n",
        "half the devices have Bluetooth, and half don’t\n",
        "there is a gradual increase in battery as the price range increases\n",
        "Ram has continuous increase with price range while moving from Low cost to Very high cost\n",
        "costly phones are lighter\n",
        "RAM, battery power, pixels played more significant role in deciding the price range of mobile phone.\n",
        "form all the above experiments we can conclude that logistic regression and, XGboosting with using hyperparameters we got the best results"
      ],
      "metadata": {
        "id": "Fjb1IsQkh3yE"
      }
    },
    {
      "cell_type": "markdown",
      "source": [
        "### ***Hurrah! You have successfully completed your Machine Learning Capstone Project !!!***"
      ],
      "metadata": {
        "id": "gIfDvo9L0UH2"
      }
    }
  ]
}